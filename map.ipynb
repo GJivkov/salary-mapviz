{
 "cells": [
  {
   "cell_type": "code",
   "execution_count": null,
   "metadata": {},
   "outputs": [],
   "source": [
    "import geopandas as gpd\n",
    "import pandas as pd\n",
    "import plotly.express as px\n",
    "import json"
   ]
  },
  {
   "cell_type": "code",
   "execution_count": null,
   "metadata": {},
   "outputs": [],
   "source": [
    "df_map = gpd.read_file('bgr_admbnda_adm1_UNICEF_2019.shp')\n",
    "geo_json = json.loads(df_map[['ADM1_EN', 'geometry']].to_json())\n",
    "df_salary_old = pd.read_csv('salary2000.csv', delimiter = ';')\n",
    "df_salary_new = pd.read_csv('salary2008.csv', delimiter = ';')"
   ]
  },
  {
   "cell_type": "code",
   "execution_count": null,
   "metadata": {},
   "outputs": [],
   "source": [
    "#Delete extra column\n",
    "df_salary_old = df_salary_old.iloc[:, :-1]\n",
    "#Change headers\n",
    "df_salary_old.drop(df_salary_old.index[0:2], inplace=True)\n",
    "df_salary_old.reset_index(drop=True, inplace=True)\n",
    "df_salary_old.columns = ['City', '2000', '2001', '2002', '2003', '2004', '2005', '2006', '2007']"
   ]
  },
  {
   "cell_type": "code",
   "execution_count": null,
   "metadata": {},
   "outputs": [],
   "source": [
    "#Delete extra column\n",
    "df_salary_new = df_salary_new.iloc[:, :-1]\n",
    "#Change headers\n",
    "df_salary_new.drop(df_salary_new.index[0:2], inplace=True)\n",
    "df_salary_new.reset_index(drop=True, inplace =True)\n",
    "df_salary_new.columns = ['City', '2008', '2009', '2010', '2011', '2012', '2013', '2014', \n",
    "                         '2015', '2016', '2017', '2018', '2019']"
   ]
  },
  {
   "cell_type": "code",
   "execution_count": null,
   "metadata": {},
   "outputs": [],
   "source": [
    "df_whole = pd.merge(df_salary_old, df_salary_new)\n",
    "\n",
    "#Fix naming\n",
    "df_whole['City'][df_whole['City'] == 'София'] = 'Софийска'\n",
    "df_whole['City'][df_whole['City'] == 'София (столица)'] = 'София-град'"
   ]
  },
  {
   "cell_type": "code",
   "execution_count": null,
   "metadata": {},
   "outputs": [],
   "source": [
    "df = pd.merge(df_whole, df_map[['ADM1_BG','ADM1_EN']], left_on='City', right_on='ADM1_BG')"
   ]
  },
  {
   "cell_type": "code",
   "execution_count": null,
   "metadata": {},
   "outputs": [],
   "source": [
    "df.drop(columns=['ADM1_BG', 'City'], inplace=True)"
   ]
  },
  {
   "cell_type": "code",
   "execution_count": null,
   "metadata": {},
   "outputs": [],
   "source": [
    "cols_num = df.columns.drop(['ADM1_EN'])"
   ]
  },
  {
   "cell_type": "code",
   "execution_count": null,
   "metadata": {},
   "outputs": [],
   "source": [
    "df[cols_num] = df[cols_num].apply(pd.to_numeric, errors='coerce')"
   ]
  },
  {
   "cell_type": "code",
   "execution_count": null,
   "metadata": {},
   "outputs": [],
   "source": [
    "df_melted = df.melt(id_vars='ADM1_EN')\n",
    "df_final = df_melted.rename(columns = {'variable': 'Year', 'value': 'Salary'})"
   ]
  },
  {
   "cell_type": "code",
   "execution_count": null,
   "metadata": {},
   "outputs": [],
   "source": [
    "fig = px.choropleth(df_final, geojson=geo_json, color='Salary',\n",
    "                           color_continuous_scale='plasma',\n",
    "                           range_color=(2000, 22000),\n",
    "                           locations='ADM1_EN',\n",
    "                           featureidkey='properties.ADM1_EN',\n",
    "                           animation_frame='Year'\n",
    "                          )\n",
    "\n",
    "fig.update_layout(title_text='Average annual salary in Bulgarian provinces in leva', title_x=0.5)\n",
    "fig.update_geos(fitbounds=\"locations\", visible=False)\n",
    "fig.show()"
   ]
  }
 ],
 "metadata": {
  "kernelspec": {
   "display_name": "Python 3",
   "language": "python",
   "name": "python3"
  },
  "language_info": {
   "codemirror_mode": {
    "name": "ipython",
    "version": 3
   },
   "file_extension": ".py",
   "mimetype": "text/x-python",
   "name": "python",
   "nbconvert_exporter": "python",
   "pygments_lexer": "ipython3",
   "version": "3.8.5"
  }
 },
 "nbformat": 4,
 "nbformat_minor": 4
}
